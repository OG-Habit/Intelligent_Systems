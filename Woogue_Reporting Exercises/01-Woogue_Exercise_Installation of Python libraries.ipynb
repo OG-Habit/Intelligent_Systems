{
 "cells": [
  {
   "cell_type": "code",
   "execution_count": null,
   "metadata": {},
   "outputs": [],
   "source": [
    "%pip install pandas\n",
    "%pip install numpy\n",
    "%pip install matplotlib\n",
    "%pip install tensorflow\n",
    "%pip install scikit-learn"
   ]
  },
  {
   "cell_type": "code",
   "execution_count": 4,
   "metadata": {},
   "outputs": [],
   "source": [
    "import matplotlib as plt\n",
    "import numpy as np\n",
    "import pandas as pd\n",
    "import tensorflow as tf\n",
    "import sklearn as sk"
   ]
  },
  {
   "cell_type": "markdown",
   "metadata": {},
   "source": [
    "Printing the versions of 5 imported libraries"
   ]
  },
  {
   "cell_type": "code",
   "execution_count": 5,
   "metadata": {},
   "outputs": [
    {
     "name": "stdout",
     "output_type": "stream",
     "text": [
      "Numpy version: 1.26.2\n",
      "Pandas version: 2.1.3\n",
      "Tensorflow version: 2.15.0\n",
      "Scikit-learn version: 1.3.2\n",
      "Matplotlib version: 3.8.2\n"
     ]
    }
   ],
   "source": [
    "print(\"Numpy version: \" + np.__version__)\n",
    "print(\"Pandas version: \" + pd.__version__)\n",
    "print(\"Tensorflow version: \" + tf.__version__)\n",
    "print(\"Scikit-learn version: \" + sk.__version__)\n",
    "print(\"Matplotlib version: \" + plt.__version__)"
   ]
  }
 ],
 "metadata": {
  "kernelspec": {
   "display_name": "venv",
   "language": "python",
   "name": "python3"
  },
  "language_info": {
   "codemirror_mode": {
    "name": "ipython",
    "version": 3
   },
   "file_extension": ".py",
   "mimetype": "text/x-python",
   "name": "python",
   "nbconvert_exporter": "python",
   "pygments_lexer": "ipython3",
   "version": "3.11.1"
  },
  "orig_nbformat": 4
 },
 "nbformat": 4,
 "nbformat_minor": 2
}
