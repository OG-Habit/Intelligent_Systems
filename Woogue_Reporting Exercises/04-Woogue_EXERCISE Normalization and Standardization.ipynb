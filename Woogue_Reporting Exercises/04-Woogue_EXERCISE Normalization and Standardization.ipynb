{
 "cells": [
  {
   "cell_type": "markdown",
   "id": "ce14d7b1",
   "metadata": {},
   "source": [
    "<div style=\"color:yellow;\">\n",
    "<h2 style=\"font-weight:700\">CS 4103 - Intelligent Systems</h2>\n",
    "<h3>Hands-on Exercise - Normalization and Standardization</h3>\n",
    "<h4>September 6, 2023</h4>\n",
    "</div>"
   ]
  },
  {
   "cell_type": "code",
   "execution_count": null,
   "id": "21dbada3",
   "metadata": {
    "execution": {
     "iopub.execute_input": "2023-08-21T04:07:34.960391Z",
     "iopub.status.busy": "2023-08-21T04:07:34.959887Z",
     "iopub.status.idle": "2023-08-21T04:07:37.524871Z",
     "shell.execute_reply": "2023-08-21T04:07:37.523601Z"
    },
    "papermill": {
     "duration": 2.57216,
     "end_time": "2023-08-21T04:07:37.527523",
     "exception": false,
     "start_time": "2023-08-21T04:07:34.955363",
     "status": "completed"
    },
    "tags": []
   },
   "outputs": [],
   "source": [
    "# import required libraries\n",
    "import pandas as pd\n",
    "pd.set_option('display.max_columns', None)\n",
    "\n",
    "import numpy as np\n",
    "import matplotlib.pyplot as plt\n",
    "import seaborn as sns\n",
    "import tensorflow as tf\n",
    "\n",
    "from tensorflow.keras.models import Sequential\n",
    "from tensorflow.keras.layers import Dense\n",
    "\n",
    "from sklearn.model_selection import train_test_split\n",
    "from sklearn.preprocessing import LabelEncoder, StandardScaler, MinMaxScaler, RobustScaler\n",
    "from sklearn.ensemble import RandomForestClassifier\n",
    "from sklearn.metrics import accuracy_score, classification_report, confusion_matrix\n",
    "\n",
    "import warnings\n",
    "warnings.filterwarnings('ignore')"
   ]
  },
  {
   "cell_type": "markdown",
   "id": "01bbf14e",
   "metadata": {},
   "source": [
    "### Loan Defaults Dataset\n",
    "---\n",
    "Anonymised Loan Default data, including loan amount, term, Interest rate, instalment, employment length, home ownership, annual income, loan status and purpose, etc. as well as the binary repay_fail (1 or 0).\n",
    "\n",
    "Source: https://www.kaggle.com/datasets/joebeachcapital/loan-default"
   ]
  },
  {
   "cell_type": "markdown",
   "id": "553c589b",
   "metadata": {
    "papermill": {
     "duration": 0.00348,
     "end_time": "2023-08-21T04:07:34.952527",
     "exception": false,
     "start_time": "2023-08-21T04:07:34.949047",
     "status": "completed"
    },
    "tags": []
   },
   "source": [
    "# Load and Preprocess Data"
   ]
  },
  {
   "cell_type": "code",
   "execution_count": null,
   "id": "5e74f720",
   "metadata": {
    "execution": {
     "iopub.execute_input": "2023-08-21T04:07:37.535607Z",
     "iopub.status.busy": "2023-08-21T04:07:37.534883Z",
     "iopub.status.idle": "2023-08-21T04:07:37.850451Z",
     "shell.execute_reply": "2023-08-21T04:07:37.848934Z"
    },
    "papermill": {
     "duration": 0.322614,
     "end_time": "2023-08-21T04:07:37.853228",
     "exception": false,
     "start_time": "2023-08-21T04:07:37.530614",
     "status": "completed"
    },
    "tags": []
   },
   "outputs": [],
   "source": [
    "data = pd.read_csv('04-Anonymize_Loan_Default_data.csv',encoding='latin1', index_col=0)"
   ]
  },
  {
   "cell_type": "code",
   "execution_count": null,
   "id": "4a6df4ce",
   "metadata": {},
   "outputs": [],
   "source": [
    "data.info()"
   ]
  },
  {
   "cell_type": "code",
   "execution_count": null,
   "id": "02f1865d",
   "metadata": {
    "execution": {
     "iopub.execute_input": "2023-08-21T04:07:37.862382Z",
     "iopub.status.busy": "2023-08-21T04:07:37.861960Z",
     "iopub.status.idle": "2023-08-21T04:07:37.976583Z",
     "shell.execute_reply": "2023-08-21T04:07:37.975250Z"
    },
    "papermill": {
     "duration": 0.123032,
     "end_time": "2023-08-21T04:07:37.979880",
     "exception": false,
     "start_time": "2023-08-21T04:07:37.856848",
     "status": "completed"
    },
    "tags": []
   },
   "outputs": [],
   "source": [
    "data.head()"
   ]
  },
  {
   "cell_type": "markdown",
   "id": "26a3111c",
   "metadata": {
    "papermill": {
     "duration": 0.00263,
     "end_time": "2023-08-21T04:07:37.985738",
     "exception": false,
     "start_time": "2023-08-21T04:07:37.983108",
     "status": "completed"
    },
    "tags": []
   },
   "source": [
    "# Data Preprocessing"
   ]
  },
  {
   "cell_type": "code",
   "execution_count": null,
   "id": "67560790",
   "metadata": {
    "execution": {
     "iopub.execute_input": "2023-08-21T04:07:37.993933Z",
     "iopub.status.busy": "2023-08-21T04:07:37.992944Z",
     "iopub.status.idle": "2023-08-21T04:07:38.111025Z",
     "shell.execute_reply": "2023-08-21T04:07:38.109822Z"
    },
    "papermill": {
     "duration": 0.124883,
     "end_time": "2023-08-21T04:07:38.113595",
     "exception": false,
     "start_time": "2023-08-21T04:07:37.988712",
     "status": "completed"
    },
    "tags": []
   },
   "outputs": [],
   "source": [
    "# Drop rows with missing values or duplicate IDs\n",
    "columns_to_drop = ['id','member_id', 'issue_d', 'last_pymnt_d', 'last_credit_pull_d', 'earliest_cr_line', 'next_pymnt_d', 'zip_code']\n",
    "data = data.drop(columns_to_drop, axis=1)\n",
    "\n",
    "data.dropna(inplace=True)\n",
    "\n",
    "# Convert percentage strings to numerical values\n",
    "data['revol_util'] = data['revol_util'].str.strip('%').astype(float)\n",
    "\n",
    "# Convert term to numerical values\n",
    "data['term'] = data['term'].str.extract('(\\d+)').astype(int)\n",
    "\n",
    "# Convert emp_length to numerical values\n",
    "data['emp_length'] = data['emp_length'].str.extract('(\\d+)').astype(float)"
   ]
  },
  {
   "cell_type": "code",
   "execution_count": null,
   "id": "1a455419",
   "metadata": {},
   "outputs": [],
   "source": [
    "data.head()"
   ]
  },
  {
   "cell_type": "markdown",
   "id": "32163534",
   "metadata": {},
   "source": [
    "<h5 style=\"color:yellow\">\n",
    "Finish the remainder of the data preprocessing code by applying proper techniques in dealing with the rest of the categorical and numeric variables found in the dataset. For numeric values, include the column values that are converted in the cell above this. Refer to the first part of the code for the dataset's column info.\n",
    "</h5>"
   ]
  },
  {
   "cell_type": "code",
   "execution_count": null,
   "id": "4a26c443",
   "metadata": {},
   "outputs": [],
   "source": [
    "# Code for rest of the data preprocessing here\n",
    "\n",
    "# Encode categorical variables using Label Encoding\n",
    "label_encoder = LabelEncoder()\n",
    "categorical_cols = ['home_ownership', 'verification_status', 'purpose', 'addr_state', 'loan_status']\n",
    "for col in categorical_cols:\n",
    "    data[col] = label_encoder.fit_transform(data[col])\n",
    "\n",
    "# Feature scaling\n",
    "scaler = StandardScaler()\n",
    "numeric_cols = ['loan_amnt', 'funded_amnt', 'funded_amnt_inv', 'int_rate', 'installment', 'annual_inc', 'dti', 'delinq_2yrs',\n",
    "                'inq_last_6mths', 'mths_since_last_delinq', 'open_acc', 'pub_rec', 'revol_bal', 'revol_util', 'total_acc',\n",
    "                'total_pymnt', 'total_pymnt_inv', 'total_rec_prncp', 'total_rec_int', 'last_pymnt_amnt', 'term', 'emp_length']\n",
    "data[numeric_cols] = scaler.fit_transform(data[numeric_cols])"
   ]
  },
  {
   "cell_type": "markdown",
   "id": "b39b6a4e",
   "metadata": {
    "papermill": {
     "duration": 0.003249,
     "end_time": "2023-08-21T04:07:38.120479",
     "exception": false,
     "start_time": "2023-08-21T04:07:38.117230",
     "status": "completed"
    },
    "tags": []
   },
   "source": [
    "# Exploratory Data Analysis"
   ]
  },
  {
   "cell_type": "markdown",
   "id": "a25f94e8",
   "metadata": {},
   "source": [
    "<h5 style=\"color:yellow\">\n",
    "You may perform further analysis and data visualizations here aside from the ones given.\n",
    "</h5>"
   ]
  },
  {
   "cell_type": "code",
   "execution_count": null,
   "id": "f34e1597",
   "metadata": {
    "execution": {
     "iopub.execute_input": "2023-08-21T04:07:38.128999Z",
     "iopub.status.busy": "2023-08-21T04:07:38.127859Z",
     "iopub.status.idle": "2023-08-21T04:07:40.678195Z",
     "shell.execute_reply": "2023-08-21T04:07:40.677188Z"
    },
    "papermill": {
     "duration": 2.5616,
     "end_time": "2023-08-21T04:07:40.685119",
     "exception": false,
     "start_time": "2023-08-21T04:07:38.123519",
     "status": "completed"
    },
    "tags": []
   },
   "outputs": [],
   "source": [
    "# Split the data into features (X) and target (y)\n",
    "X = data.drop('repay_fail', axis=1)\n",
    "y = data['repay_fail']\n",
    "\n",
    "# Explore correlations\n",
    "plt.figure(figsize=(12, 8))\n",
    "sns.heatmap(X.corr(), annot=True, cmap='coolwarm')\n",
    "plt.title('Correlation Heatmap')\n",
    "plt.show()"
   ]
  },
  {
   "cell_type": "markdown",
   "id": "cccc74ab",
   "metadata": {},
   "source": [
    "## Feature Scaling"
   ]
  },
  {
   "cell_type": "code",
   "execution_count": null,
   "id": "41267b29",
   "metadata": {},
   "outputs": [],
   "source": [
    "# Split data into training and testing sets\n",
    "X_train, X_test, y_train, y_test = train_test_split(X, y, test_size=0.2, random_state=42)"
   ]
  },
  {
   "cell_type": "markdown",
   "id": "b4377996",
   "metadata": {
    "papermill": {
     "duration": 0.012184,
     "end_time": "2023-08-21T04:07:40.709776",
     "exception": false,
     "start_time": "2023-08-21T04:07:40.697592",
     "status": "completed"
    },
    "tags": []
   },
   "source": [
    "# Model Training and Evaluation"
   ]
  },
  {
   "cell_type": "markdown",
   "id": "faa9d6b1",
   "metadata": {},
   "source": [
    "<h5 style=\"color:yellow\">The code below uses Random Forest Classifier. Change the code and use neural networks instead to obtain the predictions.</h5>"
   ]
  },
  {
   "cell_type": "code",
   "execution_count": null,
   "id": "7bfbc73b",
   "metadata": {
    "execution": {
     "iopub.execute_input": "2023-08-21T04:07:40.733025Z",
     "iopub.status.busy": "2023-08-21T04:07:40.732393Z",
     "iopub.status.idle": "2023-08-21T04:07:41.118734Z",
     "shell.execute_reply": "2023-08-21T04:07:41.116034Z"
    },
    "papermill": {
     "duration": 0.402773,
     "end_time": "2023-08-21T04:07:41.121919",
     "exception": false,
     "start_time": "2023-08-21T04:07:40.719146",
     "status": "completed"
    },
    "tags": []
   },
   "outputs": [],
   "source": [
    "# Initialize and train a RandomForestClassifier\n",
    "model = RandomForestClassifier(random_state=42)\n",
    "model.fit(X_train, y_train)\n",
    "\n",
    "# Make predictions\n",
    "y_pred = model.predict(X_test)\n",
    "\n",
    "# Evaluate the model\n",
    "accuracy = accuracy_score(y_test, y_pred)\n",
    "classification_rep = classification_report(y_test, y_pred)\n",
    "print(f\"Accuracy: {accuracy:.4f}\")\n",
    "print()\n",
    "print(f\"Classification Report:\\n{classification_rep}\")\n"
   ]
  },
  {
   "cell_type": "code",
   "execution_count": null,
   "id": "bbb2d0ca",
   "metadata": {},
   "outputs": [],
   "source": [
    "ann = Sequential([\n",
    "    Dense(units=3, activation='relu'),   # Input layer\n",
    "    Dense(units=6, activation='tanh'),   # Hidden layer\n",
    "    Dense(units=3, activation='relu'),   # Input layer\n",
    "    Dense(units=1, activation='sigmoid') # Output layer\n",
    "])\n",
    "ann.compile(optimizer = 'adam', loss = 'mse', metrics = ['accuracy'])\n",
    "ann.fit(X_train, y_train, batch_size = 12, epochs = 50)\n",
    "\n",
    "y_pred = ann.predict(X_test)"
   ]
  },
  {
   "cell_type": "code",
   "execution_count": null,
   "id": "84dd303b",
   "metadata": {},
   "outputs": [],
   "source": [
    "y_pred = (y_pred > 0.5)\n",
    "accuracy = accuracy_score(y_test, y_pred)\n",
    "classification_rep = classification_report(y_test, y_pred)\n",
    "print(f\"Accuracy: {accuracy:.4f}\")\n",
    "print()\n",
    "print(f\"Classification Report:\\n{classification_rep}\")"
   ]
  },
  {
   "cell_type": "code",
   "execution_count": 46,
   "id": "b2da665b",
   "metadata": {},
   "outputs": [
    {
     "name": "stdout",
     "output_type": "stream",
     "text": [
      "Confusion matrix:\n",
      "[[2281    0]\n",
      " [   6  469]]\n",
      "               precision    recall  f1-score   support\n",
      "\n",
      "repay success     0.9974    1.0000    0.9987      2281\n",
      "   repay fail     1.0000    0.9874    0.9936       475\n",
      "\n",
      "     accuracy                         0.9978      2756\n",
      "    macro avg     0.9987    0.9937    0.9962      2756\n",
      " weighted avg     0.9978    0.9978    0.9978      2756\n",
      "\n"
     ]
    }
   ],
   "source": [
    "cm = confusion_matrix(y_test, y_pred)\n",
    "print('Confusion matrix:')\n",
    "print(cm)\n",
    "print(classification_report(y_test, y_pred, target_names=[\"repay success\",\"repay fail\"], digits= 4))"
   ]
  },
  {
   "cell_type": "markdown",
   "id": "3882f350",
   "metadata": {},
   "source": [
    "# Findings\n",
    "StandardScaler = 0.9698\n",
    "RobustScaler = 0.9698\n",
    "MinMaxScaler = 0.9668\n",
    "\n",
    "MinMax worst in accuracy."
   ]
  }
 ],
 "metadata": {
  "kernelspec": {
   "display_name": "Python 3",
   "language": "python",
   "name": "python3"
  },
  "language_info": {
   "codemirror_mode": {
    "name": "ipython",
    "version": 3
   },
   "file_extension": ".py",
   "mimetype": "text/x-python",
   "name": "python",
   "nbconvert_exporter": "python",
   "pygments_lexer": "ipython3",
   "version": "3.11.1"
  },
  "papermill": {
   "default_parameters": {},
   "duration": 20.283652,
   "end_time": "2023-08-21T04:07:42.557395",
   "environment_variables": {},
   "exception": null,
   "input_path": "__notebook__.ipynb",
   "output_path": "__notebook__.ipynb",
   "parameters": {},
   "start_time": "2023-08-21T04:07:22.273743",
   "version": "2.4.0"
  }
 },
 "nbformat": 4,
 "nbformat_minor": 5
}
