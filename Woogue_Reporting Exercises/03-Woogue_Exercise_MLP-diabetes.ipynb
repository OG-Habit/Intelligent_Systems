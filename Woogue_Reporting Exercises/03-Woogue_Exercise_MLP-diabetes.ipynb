{
 "cells": [
  {
   "cell_type": "markdown",
   "metadata": {},
   "source": [
    "# Applications of MLP"
   ]
  },
  {
   "cell_type": "markdown",
   "metadata": {
    "colab_type": "text",
    "id": "gWZyYmS_UE_L"
   },
   "source": [
    "### Importing the libraries"
   ]
  },
  {
   "cell_type": "code",
   "execution_count": 1,
   "metadata": {
    "colab": {},
    "colab_type": "code",
    "id": "MxkJoQBkUIHC"
   },
   "outputs": [
    {
     "name": "stdout",
     "output_type": "stream",
     "text": [
      "WARNING:tensorflow:From c:\\Users\\Ivan\\Desktop\\School\\4th year - 1st sem\\4103 intelligent systems\\final\\Forked from Gerard repo\\venv\\Lib\\site-packages\\keras\\src\\losses.py:2976: The name tf.losses.sparse_softmax_cross_entropy is deprecated. Please use tf.compat.v1.losses.sparse_softmax_cross_entropy instead.\n",
      "\n"
     ]
    }
   ],
   "source": [
    "import numpy as np\n",
    "import pandas as pd\n",
    "import tensorflow as tf"
   ]
  },
  {
   "cell_type": "markdown",
   "metadata": {},
   "source": [
    "# Diabetes Analysis\n",
    "---"
   ]
  },
  {
   "cell_type": "markdown",
   "metadata": {
    "colab_type": "text",
    "id": "1E0Q3aoKUCRX"
   },
   "source": [
    "## Part 1 - Data Preprocessing"
   ]
  },
  {
   "cell_type": "markdown",
   "metadata": {
    "colab_type": "text",
    "id": "cKWAkFVGUU0Z"
   },
   "source": [
    "### Importing the dataset"
   ]
  },
  {
   "cell_type": "code",
   "execution_count": 4,
   "metadata": {
    "colab": {},
    "colab_type": "code",
    "id": "MXUkhkMfU4wq"
   },
   "outputs": [],
   "source": [
    "dataset = pd.read_csv('03-diabetes_prediction_dataset.csv')"
   ]
  },
  {
   "cell_type": "code",
   "execution_count": 5,
   "metadata": {},
   "outputs": [
    {
     "data": {
      "text/html": [
       "<div>\n",
       "<style scoped>\n",
       "    .dataframe tbody tr th:only-of-type {\n",
       "        vertical-align: middle;\n",
       "    }\n",
       "\n",
       "    .dataframe tbody tr th {\n",
       "        vertical-align: top;\n",
       "    }\n",
       "\n",
       "    .dataframe thead th {\n",
       "        text-align: right;\n",
       "    }\n",
       "</style>\n",
       "<table border=\"1\" class=\"dataframe\">\n",
       "  <thead>\n",
       "    <tr style=\"text-align: right;\">\n",
       "      <th></th>\n",
       "      <th>gender</th>\n",
       "      <th>age</th>\n",
       "      <th>hypertension</th>\n",
       "      <th>heart_disease</th>\n",
       "      <th>smoking_history</th>\n",
       "      <th>bmi</th>\n",
       "      <th>HbA1c_level</th>\n",
       "      <th>blood_glucose_level</th>\n",
       "      <th>diabetes</th>\n",
       "    </tr>\n",
       "  </thead>\n",
       "  <tbody>\n",
       "    <tr>\n",
       "      <th>0</th>\n",
       "      <td>Female</td>\n",
       "      <td>80.0</td>\n",
       "      <td>0</td>\n",
       "      <td>1</td>\n",
       "      <td>never</td>\n",
       "      <td>25.19</td>\n",
       "      <td>6.6</td>\n",
       "      <td>140</td>\n",
       "      <td>0</td>\n",
       "    </tr>\n",
       "    <tr>\n",
       "      <th>1</th>\n",
       "      <td>Female</td>\n",
       "      <td>54.0</td>\n",
       "      <td>0</td>\n",
       "      <td>0</td>\n",
       "      <td>No Info</td>\n",
       "      <td>27.32</td>\n",
       "      <td>6.6</td>\n",
       "      <td>80</td>\n",
       "      <td>0</td>\n",
       "    </tr>\n",
       "    <tr>\n",
       "      <th>2</th>\n",
       "      <td>Male</td>\n",
       "      <td>28.0</td>\n",
       "      <td>0</td>\n",
       "      <td>0</td>\n",
       "      <td>never</td>\n",
       "      <td>27.32</td>\n",
       "      <td>5.7</td>\n",
       "      <td>158</td>\n",
       "      <td>0</td>\n",
       "    </tr>\n",
       "    <tr>\n",
       "      <th>3</th>\n",
       "      <td>Female</td>\n",
       "      <td>36.0</td>\n",
       "      <td>0</td>\n",
       "      <td>0</td>\n",
       "      <td>current</td>\n",
       "      <td>23.45</td>\n",
       "      <td>5.0</td>\n",
       "      <td>155</td>\n",
       "      <td>0</td>\n",
       "    </tr>\n",
       "    <tr>\n",
       "      <th>4</th>\n",
       "      <td>Male</td>\n",
       "      <td>76.0</td>\n",
       "      <td>1</td>\n",
       "      <td>1</td>\n",
       "      <td>current</td>\n",
       "      <td>20.14</td>\n",
       "      <td>4.8</td>\n",
       "      <td>155</td>\n",
       "      <td>0</td>\n",
       "    </tr>\n",
       "    <tr>\n",
       "      <th>...</th>\n",
       "      <td>...</td>\n",
       "      <td>...</td>\n",
       "      <td>...</td>\n",
       "      <td>...</td>\n",
       "      <td>...</td>\n",
       "      <td>...</td>\n",
       "      <td>...</td>\n",
       "      <td>...</td>\n",
       "      <td>...</td>\n",
       "    </tr>\n",
       "    <tr>\n",
       "      <th>99995</th>\n",
       "      <td>Female</td>\n",
       "      <td>80.0</td>\n",
       "      <td>0</td>\n",
       "      <td>0</td>\n",
       "      <td>No Info</td>\n",
       "      <td>27.32</td>\n",
       "      <td>6.2</td>\n",
       "      <td>90</td>\n",
       "      <td>0</td>\n",
       "    </tr>\n",
       "    <tr>\n",
       "      <th>99996</th>\n",
       "      <td>Female</td>\n",
       "      <td>2.0</td>\n",
       "      <td>0</td>\n",
       "      <td>0</td>\n",
       "      <td>No Info</td>\n",
       "      <td>17.37</td>\n",
       "      <td>6.5</td>\n",
       "      <td>100</td>\n",
       "      <td>0</td>\n",
       "    </tr>\n",
       "    <tr>\n",
       "      <th>99997</th>\n",
       "      <td>Male</td>\n",
       "      <td>66.0</td>\n",
       "      <td>0</td>\n",
       "      <td>0</td>\n",
       "      <td>former</td>\n",
       "      <td>27.83</td>\n",
       "      <td>5.7</td>\n",
       "      <td>155</td>\n",
       "      <td>0</td>\n",
       "    </tr>\n",
       "    <tr>\n",
       "      <th>99998</th>\n",
       "      <td>Female</td>\n",
       "      <td>24.0</td>\n",
       "      <td>0</td>\n",
       "      <td>0</td>\n",
       "      <td>never</td>\n",
       "      <td>35.42</td>\n",
       "      <td>4.0</td>\n",
       "      <td>100</td>\n",
       "      <td>0</td>\n",
       "    </tr>\n",
       "    <tr>\n",
       "      <th>99999</th>\n",
       "      <td>Female</td>\n",
       "      <td>57.0</td>\n",
       "      <td>0</td>\n",
       "      <td>0</td>\n",
       "      <td>current</td>\n",
       "      <td>22.43</td>\n",
       "      <td>6.6</td>\n",
       "      <td>90</td>\n",
       "      <td>0</td>\n",
       "    </tr>\n",
       "  </tbody>\n",
       "</table>\n",
       "<p>100000 rows × 9 columns</p>\n",
       "</div>"
      ],
      "text/plain": [
       "       gender   age  hypertension  heart_disease smoking_history    bmi  \\\n",
       "0      Female  80.0             0              1           never  25.19   \n",
       "1      Female  54.0             0              0         No Info  27.32   \n",
       "2        Male  28.0             0              0           never  27.32   \n",
       "3      Female  36.0             0              0         current  23.45   \n",
       "4        Male  76.0             1              1         current  20.14   \n",
       "...       ...   ...           ...            ...             ...    ...   \n",
       "99995  Female  80.0             0              0         No Info  27.32   \n",
       "99996  Female   2.0             0              0         No Info  17.37   \n",
       "99997    Male  66.0             0              0          former  27.83   \n",
       "99998  Female  24.0             0              0           never  35.42   \n",
       "99999  Female  57.0             0              0         current  22.43   \n",
       "\n",
       "       HbA1c_level  blood_glucose_level  diabetes  \n",
       "0              6.6                  140         0  \n",
       "1              6.6                   80         0  \n",
       "2              5.7                  158         0  \n",
       "3              5.0                  155         0  \n",
       "4              4.8                  155         0  \n",
       "...            ...                  ...       ...  \n",
       "99995          6.2                   90         0  \n",
       "99996          6.5                  100         0  \n",
       "99997          5.7                  155         0  \n",
       "99998          4.0                  100         0  \n",
       "99999          6.6                   90         0  \n",
       "\n",
       "[100000 rows x 9 columns]"
      ]
     },
     "execution_count": 5,
     "metadata": {},
     "output_type": "execute_result"
    }
   ],
   "source": [
    "dataset"
   ]
  },
  {
   "cell_type": "code",
   "execution_count": 6,
   "metadata": {},
   "outputs": [],
   "source": [
    "X = dataset.iloc[:, :-1].values\n",
    "y = dataset.iloc[:, -1].values"
   ]
  },
  {
   "cell_type": "code",
   "execution_count": 7,
   "metadata": {},
   "outputs": [
    {
     "data": {
      "text/html": [
       "<div>\n",
       "<style scoped>\n",
       "    .dataframe tbody tr th:only-of-type {\n",
       "        vertical-align: middle;\n",
       "    }\n",
       "\n",
       "    .dataframe tbody tr th {\n",
       "        vertical-align: top;\n",
       "    }\n",
       "\n",
       "    .dataframe thead th {\n",
       "        text-align: right;\n",
       "    }\n",
       "</style>\n",
       "<table border=\"1\" class=\"dataframe\">\n",
       "  <thead>\n",
       "    <tr style=\"text-align: right;\">\n",
       "      <th></th>\n",
       "      <th>gender</th>\n",
       "      <th>age</th>\n",
       "      <th>hypertension</th>\n",
       "      <th>heart_disease</th>\n",
       "      <th>smoking_history</th>\n",
       "      <th>bmi</th>\n",
       "      <th>HbA1c_level</th>\n",
       "      <th>blood_glucose_level</th>\n",
       "    </tr>\n",
       "  </thead>\n",
       "  <tbody>\n",
       "    <tr>\n",
       "      <th>0</th>\n",
       "      <td>Female</td>\n",
       "      <td>80.0</td>\n",
       "      <td>0</td>\n",
       "      <td>1</td>\n",
       "      <td>never</td>\n",
       "      <td>25.19</td>\n",
       "      <td>6.6</td>\n",
       "      <td>140</td>\n",
       "    </tr>\n",
       "    <tr>\n",
       "      <th>1</th>\n",
       "      <td>Female</td>\n",
       "      <td>54.0</td>\n",
       "      <td>0</td>\n",
       "      <td>0</td>\n",
       "      <td>No Info</td>\n",
       "      <td>27.32</td>\n",
       "      <td>6.6</td>\n",
       "      <td>80</td>\n",
       "    </tr>\n",
       "    <tr>\n",
       "      <th>2</th>\n",
       "      <td>Male</td>\n",
       "      <td>28.0</td>\n",
       "      <td>0</td>\n",
       "      <td>0</td>\n",
       "      <td>never</td>\n",
       "      <td>27.32</td>\n",
       "      <td>5.7</td>\n",
       "      <td>158</td>\n",
       "    </tr>\n",
       "    <tr>\n",
       "      <th>3</th>\n",
       "      <td>Female</td>\n",
       "      <td>36.0</td>\n",
       "      <td>0</td>\n",
       "      <td>0</td>\n",
       "      <td>current</td>\n",
       "      <td>23.45</td>\n",
       "      <td>5.0</td>\n",
       "      <td>155</td>\n",
       "    </tr>\n",
       "    <tr>\n",
       "      <th>4</th>\n",
       "      <td>Male</td>\n",
       "      <td>76.0</td>\n",
       "      <td>1</td>\n",
       "      <td>1</td>\n",
       "      <td>current</td>\n",
       "      <td>20.14</td>\n",
       "      <td>4.8</td>\n",
       "      <td>155</td>\n",
       "    </tr>\n",
       "    <tr>\n",
       "      <th>...</th>\n",
       "      <td>...</td>\n",
       "      <td>...</td>\n",
       "      <td>...</td>\n",
       "      <td>...</td>\n",
       "      <td>...</td>\n",
       "      <td>...</td>\n",
       "      <td>...</td>\n",
       "      <td>...</td>\n",
       "    </tr>\n",
       "    <tr>\n",
       "      <th>99995</th>\n",
       "      <td>Female</td>\n",
       "      <td>80.0</td>\n",
       "      <td>0</td>\n",
       "      <td>0</td>\n",
       "      <td>No Info</td>\n",
       "      <td>27.32</td>\n",
       "      <td>6.2</td>\n",
       "      <td>90</td>\n",
       "    </tr>\n",
       "    <tr>\n",
       "      <th>99996</th>\n",
       "      <td>Female</td>\n",
       "      <td>2.0</td>\n",
       "      <td>0</td>\n",
       "      <td>0</td>\n",
       "      <td>No Info</td>\n",
       "      <td>17.37</td>\n",
       "      <td>6.5</td>\n",
       "      <td>100</td>\n",
       "    </tr>\n",
       "    <tr>\n",
       "      <th>99997</th>\n",
       "      <td>Male</td>\n",
       "      <td>66.0</td>\n",
       "      <td>0</td>\n",
       "      <td>0</td>\n",
       "      <td>former</td>\n",
       "      <td>27.83</td>\n",
       "      <td>5.7</td>\n",
       "      <td>155</td>\n",
       "    </tr>\n",
       "    <tr>\n",
       "      <th>99998</th>\n",
       "      <td>Female</td>\n",
       "      <td>24.0</td>\n",
       "      <td>0</td>\n",
       "      <td>0</td>\n",
       "      <td>never</td>\n",
       "      <td>35.42</td>\n",
       "      <td>4.0</td>\n",
       "      <td>100</td>\n",
       "    </tr>\n",
       "    <tr>\n",
       "      <th>99999</th>\n",
       "      <td>Female</td>\n",
       "      <td>57.0</td>\n",
       "      <td>0</td>\n",
       "      <td>0</td>\n",
       "      <td>current</td>\n",
       "      <td>22.43</td>\n",
       "      <td>6.6</td>\n",
       "      <td>90</td>\n",
       "    </tr>\n",
       "  </tbody>\n",
       "</table>\n",
       "<p>100000 rows × 8 columns</p>\n",
       "</div>"
      ],
      "text/plain": [
       "       gender   age hypertension heart_disease smoking_history    bmi  \\\n",
       "0      Female  80.0            0             1           never  25.19   \n",
       "1      Female  54.0            0             0         No Info  27.32   \n",
       "2        Male  28.0            0             0           never  27.32   \n",
       "3      Female  36.0            0             0         current  23.45   \n",
       "4        Male  76.0            1             1         current  20.14   \n",
       "...       ...   ...          ...           ...             ...    ...   \n",
       "99995  Female  80.0            0             0         No Info  27.32   \n",
       "99996  Female   2.0            0             0         No Info  17.37   \n",
       "99997    Male  66.0            0             0          former  27.83   \n",
       "99998  Female  24.0            0             0           never  35.42   \n",
       "99999  Female  57.0            0             0         current  22.43   \n",
       "\n",
       "      HbA1c_level blood_glucose_level  \n",
       "0             6.6                 140  \n",
       "1             6.6                  80  \n",
       "2             5.7                 158  \n",
       "3             5.0                 155  \n",
       "4             4.8                 155  \n",
       "...           ...                 ...  \n",
       "99995         6.2                  90  \n",
       "99996         6.5                 100  \n",
       "99997         5.7                 155  \n",
       "99998         4.0                 100  \n",
       "99999         6.6                  90  \n",
       "\n",
       "[100000 rows x 8 columns]"
      ]
     },
     "execution_count": 7,
     "metadata": {},
     "output_type": "execute_result"
    }
   ],
   "source": [
    "pd.DataFrame(X, columns = [\"gender\",\"age\",\"hypertension\",\"heart_disease\",\"smoking_history\",\"bmi\",\"HbA1c_level\",\"blood_glucose_level\"])"
   ]
  },
  {
   "cell_type": "code",
   "execution_count": 8,
   "metadata": {},
   "outputs": [
    {
     "data": {
      "text/html": [
       "<div>\n",
       "<style scoped>\n",
       "    .dataframe tbody tr th:only-of-type {\n",
       "        vertical-align: middle;\n",
       "    }\n",
       "\n",
       "    .dataframe tbody tr th {\n",
       "        vertical-align: top;\n",
       "    }\n",
       "\n",
       "    .dataframe thead th {\n",
       "        text-align: right;\n",
       "    }\n",
       "</style>\n",
       "<table border=\"1\" class=\"dataframe\">\n",
       "  <thead>\n",
       "    <tr style=\"text-align: right;\">\n",
       "      <th></th>\n",
       "      <th>diabetes</th>\n",
       "    </tr>\n",
       "  </thead>\n",
       "  <tbody>\n",
       "    <tr>\n",
       "      <th>0</th>\n",
       "      <td>0</td>\n",
       "    </tr>\n",
       "    <tr>\n",
       "      <th>1</th>\n",
       "      <td>0</td>\n",
       "    </tr>\n",
       "    <tr>\n",
       "      <th>2</th>\n",
       "      <td>0</td>\n",
       "    </tr>\n",
       "    <tr>\n",
       "      <th>3</th>\n",
       "      <td>0</td>\n",
       "    </tr>\n",
       "    <tr>\n",
       "      <th>4</th>\n",
       "      <td>0</td>\n",
       "    </tr>\n",
       "    <tr>\n",
       "      <th>...</th>\n",
       "      <td>...</td>\n",
       "    </tr>\n",
       "    <tr>\n",
       "      <th>99995</th>\n",
       "      <td>0</td>\n",
       "    </tr>\n",
       "    <tr>\n",
       "      <th>99996</th>\n",
       "      <td>0</td>\n",
       "    </tr>\n",
       "    <tr>\n",
       "      <th>99997</th>\n",
       "      <td>0</td>\n",
       "    </tr>\n",
       "    <tr>\n",
       "      <th>99998</th>\n",
       "      <td>0</td>\n",
       "    </tr>\n",
       "    <tr>\n",
       "      <th>99999</th>\n",
       "      <td>0</td>\n",
       "    </tr>\n",
       "  </tbody>\n",
       "</table>\n",
       "<p>100000 rows × 1 columns</p>\n",
       "</div>"
      ],
      "text/plain": [
       "       diabetes\n",
       "0             0\n",
       "1             0\n",
       "2             0\n",
       "3             0\n",
       "4             0\n",
       "...         ...\n",
       "99995         0\n",
       "99996         0\n",
       "99997         0\n",
       "99998         0\n",
       "99999         0\n",
       "\n",
       "[100000 rows x 1 columns]"
      ]
     },
     "execution_count": 8,
     "metadata": {},
     "output_type": "execute_result"
    }
   ],
   "source": [
    "pd.DataFrame(y, columns = [\"diabetes\"])"
   ]
  },
  {
   "cell_type": "code",
   "execution_count": 9,
   "metadata": {
    "colab": {
     "base_uri": "https://localhost:8080/",
     "height": 137
    },
    "colab_type": "code",
    "id": "VYP9cQTWbzuI",
    "outputId": "797e7a64-9bac-436a-8c9c-94437e5e7587"
   },
   "outputs": [
    {
     "data": {
      "text/plain": [
       "array([['Female', 80.0, 0, ..., 25.19, 6.6, 140],\n",
       "       ['Female', 54.0, 0, ..., 27.32, 6.6, 80],\n",
       "       ['Male', 28.0, 0, ..., 27.32, 5.7, 158],\n",
       "       ...,\n",
       "       ['Male', 66.0, 0, ..., 27.83, 5.7, 155],\n",
       "       ['Female', 24.0, 0, ..., 35.42, 4.0, 100],\n",
       "       ['Female', 57.0, 0, ..., 22.43, 6.6, 90]], dtype=object)"
      ]
     },
     "execution_count": 9,
     "metadata": {},
     "output_type": "execute_result"
    }
   ],
   "source": [
    "X"
   ]
  },
  {
   "cell_type": "code",
   "execution_count": 10,
   "metadata": {
    "colab": {
     "base_uri": "https://localhost:8080/",
     "height": 34
    },
    "colab_type": "code",
    "id": "38vKGE6Nb2RR",
    "outputId": "a815e42a-e0dd-4cb5-ab97-b17ead98fbc3"
   },
   "outputs": [
    {
     "data": {
      "text/plain": [
       "array([0, 0, 0, ..., 0, 0, 0], dtype=int64)"
      ]
     },
     "execution_count": 10,
     "metadata": {},
     "output_type": "execute_result"
    }
   ],
   "source": [
    "y"
   ]
  },
  {
   "cell_type": "markdown",
   "metadata": {
    "colab_type": "text",
    "id": "N6bQ0UgSU-NJ"
   },
   "source": [
    "### Encoding categorical data"
   ]
  },
  {
   "cell_type": "markdown",
   "metadata": {
    "colab_type": "text",
    "id": "le5MJreAbW52"
   },
   "source": [
    "Label Encoding the \"Gender\" column"
   ]
  },
  {
   "cell_type": "code",
   "execution_count": 11,
   "metadata": {
    "colab": {},
    "colab_type": "code",
    "id": "PxVKWXxLbczC"
   },
   "outputs": [],
   "source": [
    "from sklearn.preprocessing import LabelEncoder\n",
    "le = LabelEncoder()\n",
    "X[:, 0] = le.fit_transform(X[:, 0])"
   ]
  },
  {
   "cell_type": "code",
   "execution_count": 12,
   "metadata": {
    "colab": {
     "base_uri": "https://localhost:8080/",
     "height": 137
    },
    "colab_type": "code",
    "id": "-M1KboxFb6OO",
    "outputId": "e2b8c7e8-0cbc-4cdf-f4eb-7f0853a00b88"
   },
   "outputs": [
    {
     "name": "stdout",
     "output_type": "stream",
     "text": [
      "[[0 80.0 0 ... 25.19 6.6 140]\n",
      " [0 54.0 0 ... 27.32 6.6 80]\n",
      " [1 28.0 0 ... 27.32 5.7 158]\n",
      " ...\n",
      " [1 66.0 0 ... 27.83 5.7 155]\n",
      " [0 24.0 0 ... 35.42 4.0 100]\n",
      " [0 57.0 0 ... 22.43 6.6 90]]\n"
     ]
    }
   ],
   "source": [
    "print(X)"
   ]
  },
  {
   "cell_type": "code",
   "execution_count": 26,
   "metadata": {},
   "outputs": [
    {
     "data": {
      "text/plain": [
       "array([0.0, 0.0, 0.0, 0.0, 1.0, 0.0, 0, 80.0, 0, 1, 25.19, 6.6, 140],\n",
       "      dtype=object)"
      ]
     },
     "execution_count": 26,
     "metadata": {},
     "output_type": "execute_result"
    }
   ],
   "source": [
    "X[0]"
   ]
  },
  {
   "cell_type": "markdown",
   "metadata": {
    "colab_type": "text",
    "id": "CUxGZezpbMcb"
   },
   "source": [
    "One Hot Encoding the \"smoking_history\" column"
   ]
  },
  {
   "cell_type": "code",
   "execution_count": 13,
   "metadata": {
    "colab": {},
    "colab_type": "code",
    "id": "AMXC8-KMVirw"
   },
   "outputs": [],
   "source": [
    "from sklearn.compose import ColumnTransformer\n",
    "from sklearn.preprocessing import OneHotEncoder\n",
    "ct = ColumnTransformer(transformers=[('encoder', OneHotEncoder(), [4])], remainder='passthrough')\n",
    "X = np.array(ct.fit_transform(X))"
   ]
  },
  {
   "cell_type": "code",
   "execution_count": 14,
   "metadata": {
    "colab": {
     "base_uri": "https://localhost:8080/",
     "height": 137
    },
    "colab_type": "code",
    "id": "ZcxwEon-b8nV",
    "outputId": "23a98af4-5e33-4b26-c27b-f06e3c5d2baf"
   },
   "outputs": [
    {
     "name": "stdout",
     "output_type": "stream",
     "text": [
      "[[0.0 0.0 0.0 ... 25.19 6.6 140]\n",
      " [1.0 0.0 0.0 ... 27.32 6.6 80]\n",
      " [0.0 0.0 0.0 ... 27.32 5.7 158]\n",
      " ...\n",
      " [0.0 0.0 0.0 ... 27.83 5.7 155]\n",
      " [0.0 0.0 0.0 ... 35.42 4.0 100]\n",
      " [0.0 1.0 0.0 ... 22.43 6.6 90]]\n"
     ]
    }
   ],
   "source": [
    "print(X)"
   ]
  },
  {
   "cell_type": "markdown",
   "metadata": {
    "colab_type": "text",
    "id": "vHol938cW8zd"
   },
   "source": [
    "### Splitting the dataset into the Training set and Test set"
   ]
  },
  {
   "cell_type": "code",
   "execution_count": 15,
   "metadata": {
    "colab": {},
    "colab_type": "code",
    "id": "Z-TDt0Y_XEfc"
   },
   "outputs": [],
   "source": [
    "from sklearn.model_selection import train_test_split\n",
    "X_train, X_test, y_train, y_test = train_test_split(X, y, test_size = 0.2, random_state = 0)"
   ]
  },
  {
   "cell_type": "markdown",
   "metadata": {
    "colab_type": "text",
    "id": "RE_FcHyfV3TQ"
   },
   "source": [
    "### Feature Scaling"
   ]
  },
  {
   "cell_type": "code",
   "execution_count": 16,
   "metadata": {
    "colab": {},
    "colab_type": "code",
    "id": "ViCrE00rV8Sk"
   },
   "outputs": [],
   "source": [
    "from sklearn.preprocessing import StandardScaler\n",
    "sc = StandardScaler()\n",
    "X_train = sc.fit_transform(X_train)\n",
    "X_test = sc.transform(X_test)"
   ]
  },
  {
   "cell_type": "markdown",
   "metadata": {
    "colab_type": "text",
    "id": "-zfEzkRVXIwF"
   },
   "source": [
    "## Part 2 - Building the ANN"
   ]
  },
  {
   "cell_type": "markdown",
   "metadata": {
    "colab_type": "text",
    "id": "KvdeScabXtlB"
   },
   "source": [
    "### Initializing the ANN"
   ]
  },
  {
   "cell_type": "code",
   "execution_count": 17,
   "metadata": {
    "colab": {},
    "colab_type": "code",
    "id": "3dtrScHxXQox"
   },
   "outputs": [
    {
     "name": "stdout",
     "output_type": "stream",
     "text": [
      "WARNING:tensorflow:From c:\\Users\\Ivan\\Desktop\\School\\4th year - 1st sem\\4103 intelligent systems\\final\\Forked from Gerard repo\\venv\\Lib\\site-packages\\keras\\src\\backend.py:873: The name tf.get_default_graph is deprecated. Please use tf.compat.v1.get_default_graph instead.\n",
      "\n"
     ]
    }
   ],
   "source": [
    "ann = tf.keras.models.Sequential()"
   ]
  },
  {
   "cell_type": "markdown",
   "metadata": {
    "colab_type": "text",
    "id": "rP6urV6SX7kS"
   },
   "source": [
    "### Adding the input layer and the first hidden layer"
   ]
  },
  {
   "cell_type": "code",
   "execution_count": 18,
   "metadata": {
    "colab": {},
    "colab_type": "code",
    "id": "bppGycBXYCQr"
   },
   "outputs": [],
   "source": [
    "ann.add(tf.keras.layers.Dense(units=6, activation='sigmoid'))"
   ]
  },
  {
   "cell_type": "markdown",
   "metadata": {
    "colab_type": "text",
    "id": "BELWAc_8YJze"
   },
   "source": [
    "### Adding the second hidden layer\n"
   ]
  },
  {
   "cell_type": "code",
   "execution_count": 19,
   "metadata": {
    "colab": {},
    "colab_type": "code",
    "id": "JneR0u0sYRTd"
   },
   "outputs": [],
   "source": [
    "ann.add(tf.keras.layers.Dense(units=6, activation='sigmoid'))"
   ]
  },
  {
   "cell_type": "markdown",
   "metadata": {},
   "source": [
    "### Adding the third hidden layer\n"
   ]
  },
  {
   "cell_type": "code",
   "execution_count": 20,
   "metadata": {},
   "outputs": [],
   "source": [
    "# ann.add(tf.keras.layers.Dense(units=6, activation='relu'))"
   ]
  },
  {
   "cell_type": "markdown",
   "metadata": {},
   "source": [
    "### Adding the fourth hidden layer\n"
   ]
  },
  {
   "cell_type": "code",
   "execution_count": 21,
   "metadata": {},
   "outputs": [],
   "source": [
    "# ann.add(tf.keras.layers.Dense(units=6, activation='relu'))"
   ]
  },
  {
   "cell_type": "markdown",
   "metadata": {
    "colab_type": "text",
    "id": "OyNEe6RXYcU4"
   },
   "source": [
    "### Adding the output layer"
   ]
  },
  {
   "cell_type": "code",
   "execution_count": 22,
   "metadata": {
    "colab": {},
    "colab_type": "code",
    "id": "Cn3x41RBYfvY"
   },
   "outputs": [],
   "source": [
    "ann.add(tf.keras.layers.Dense(units=1, activation='sigmoid'))\n",
    "# ann.add(tf.keras.layers.Dense(units=1, activation='relu'))"
   ]
  },
  {
   "cell_type": "markdown",
   "metadata": {
    "colab_type": "text",
    "id": "JT4u2S1_Y4WG"
   },
   "source": [
    "## Part 3 - Training the ANN"
   ]
  },
  {
   "cell_type": "markdown",
   "metadata": {
    "colab_type": "text",
    "id": "8GWlJChhY_ZI"
   },
   "source": [
    "### Compiling the ANN"
   ]
  },
  {
   "cell_type": "code",
   "execution_count": 23,
   "metadata": {
    "colab": {},
    "colab_type": "code",
    "id": "fG3RrwDXZEaS"
   },
   "outputs": [
    {
     "name": "stdout",
     "output_type": "stream",
     "text": [
      "WARNING:tensorflow:From c:\\Users\\Ivan\\Desktop\\School\\4th year - 1st sem\\4103 intelligent systems\\final\\Forked from Gerard repo\\venv\\Lib\\site-packages\\keras\\src\\optimizers\\__init__.py:309: The name tf.train.Optimizer is deprecated. Please use tf.compat.v1.train.Optimizer instead.\n",
      "\n"
     ]
    }
   ],
   "source": [
    "# layers\n",
    "# 6 units relu\n",
    "# 6 units relu\n",
    "# output layer sigmoid\n",
    "\n",
    "# ann.compile(optimizer = 'adadelta', loss = 'binary_crossentropy', metrics = ['accuracy'])     # stayed pretty much the same at 91.5\n",
    "# ann.compile(optimizer = 'adafactor', loss = 'binary_crossentropy', metrics = ['accuracy'])    # experimental\n",
    "# ann.compile(optimizer = 'adagrad', loss = 'binary_crossentropy', metrics = ['accuracy'])      # 92.21 - 95.53\n",
    "ann.compile(optimizer = 'adam', loss = 'binary_crossentropy', metrics = ['accuracy'])         # 95.85 - 96.61\n",
    "# ann.compile(optimizer = 'adamw', loss = 'binary_crossentropy', metrics = ['accuracy'])        # error\n",
    "# ann.compile(optimizer = 'ftrl', loss = 'binary_crossentropy', metrics = ['accuracy'])         # stuck at 91.50 at all times\n",
    "# ann.compile(optimizer = 'lion', loss = 'binary_crossentropy', metrics = ['accuracy'])         # error\n",
    "# ann.compile(optimizer = 'nadam', loss = 'binary_crossentropy', metrics = ['accuracy'])        # 95.24 - 96.04 2nd epoch to the end basically just stayed the same\n",
    "# ann.compile(optimizer = 'rmsprop', loss = 'binary_crossentropy', metrics = ['accuracy'])      # 96.04 stayed the same from 1st to last epoch\n",
    "# ann.compile(optimizer = 'sgd', loss = 'binary_crossentropy', metrics = ['accuracy'])          # 95.67 - 96.03 was very stagnant starting from epoch 19\n",
    "\n",
    "# adam seems to be the best performing optimizer\n"
   ]
  },
  {
   "cell_type": "markdown",
   "metadata": {
    "colab_type": "text",
    "id": "0QR_G5u7ZLSM"
   },
   "source": [
    "### Training the ANN on the Training set"
   ]
  },
  {
   "cell_type": "code",
   "execution_count": 27,
   "metadata": {
    "colab": {
     "base_uri": "https://localhost:8080/",
     "height": 1000
    },
    "colab_type": "code",
    "id": "nHZ-LKv_ZRb3",
    "outputId": "718cc4b0-b5aa-40f0-9b20-d3d31730a531"
   },
   "outputs": [
    {
     "name": "stdout",
     "output_type": "stream",
     "text": [
      "Epoch 1/100\n",
      "   1/2500 [..............................] - ETA: 20s - loss: 0.0652 - accuracy: 0.9688"
     ]
    },
    {
     "name": "stdout",
     "output_type": "stream",
     "text": [
      "2500/2500 [==============================] - 4s 2ms/step - loss: 0.1055 - accuracy: 0.9614\n",
      "Epoch 2/100\n",
      "2500/2500 [==============================] - 5s 2ms/step - loss: 0.1052 - accuracy: 0.9614\n",
      "Epoch 3/100\n",
      "2500/2500 [==============================] - 6s 2ms/step - loss: 0.1050 - accuracy: 0.9616\n",
      "Epoch 4/100\n",
      "2500/2500 [==============================] - 5s 2ms/step - loss: 0.1049 - accuracy: 0.9614\n",
      "Epoch 5/100\n",
      "2500/2500 [==============================] - 4s 2ms/step - loss: 0.1047 - accuracy: 0.9614\n",
      "Epoch 6/100\n",
      "2500/2500 [==============================] - 4s 1ms/step - loss: 0.1044 - accuracy: 0.9619\n",
      "Epoch 7/100\n",
      "2500/2500 [==============================] - 4s 2ms/step - loss: 0.1042 - accuracy: 0.9618\n",
      "Epoch 8/100\n",
      "2500/2500 [==============================] - 4s 2ms/step - loss: 0.1040 - accuracy: 0.9619\n",
      "Epoch 9/100\n",
      "2500/2500 [==============================] - 4s 2ms/step - loss: 0.1038 - accuracy: 0.9622\n",
      "Epoch 10/100\n",
      "2500/2500 [==============================] - 4s 2ms/step - loss: 0.1037 - accuracy: 0.9619\n",
      "Epoch 11/100\n",
      "2500/2500 [==============================] - 3s 1ms/step - loss: 0.1033 - accuracy: 0.9618\n",
      "Epoch 12/100\n",
      "2500/2500 [==============================] - 4s 1ms/step - loss: 0.1029 - accuracy: 0.9625\n",
      "Epoch 13/100\n",
      "2500/2500 [==============================] - 4s 1ms/step - loss: 0.1027 - accuracy: 0.9628\n",
      "Epoch 14/100\n",
      "2500/2500 [==============================] - 4s 1ms/step - loss: 0.1023 - accuracy: 0.9628\n",
      "Epoch 15/100\n",
      "2500/2500 [==============================] - 4s 1ms/step - loss: 0.1018 - accuracy: 0.9635\n",
      "Epoch 16/100\n",
      "2500/2500 [==============================] - 4s 1ms/step - loss: 0.1011 - accuracy: 0.9637\n",
      "Epoch 17/100\n",
      "2500/2500 [==============================] - 4s 1ms/step - loss: 0.1004 - accuracy: 0.9643\n",
      "Epoch 18/100\n",
      "2500/2500 [==============================] - 4s 1ms/step - loss: 0.0995 - accuracy: 0.9649\n",
      "Epoch 19/100\n",
      "2500/2500 [==============================] - 4s 1ms/step - loss: 0.0986 - accuracy: 0.9655\n",
      "Epoch 20/100\n",
      "2500/2500 [==============================] - 4s 1ms/step - loss: 0.0976 - accuracy: 0.9663\n",
      "Epoch 21/100\n",
      "2500/2500 [==============================] - 4s 2ms/step - loss: 0.0969 - accuracy: 0.9670\n",
      "Epoch 22/100\n",
      "2500/2500 [==============================] - 4s 2ms/step - loss: 0.0962 - accuracy: 0.9670\n",
      "Epoch 23/100\n",
      "2500/2500 [==============================] - 4s 2ms/step - loss: 0.0956 - accuracy: 0.9676\n",
      "Epoch 24/100\n",
      "2500/2500 [==============================] - 4s 1ms/step - loss: 0.0952 - accuracy: 0.9678\n",
      "Epoch 25/100\n",
      "2500/2500 [==============================] - 4s 2ms/step - loss: 0.0947 - accuracy: 0.9681\n",
      "Epoch 26/100\n",
      "2500/2500 [==============================] - 4s 2ms/step - loss: 0.0943 - accuracy: 0.9683\n",
      "Epoch 27/100\n",
      "2500/2500 [==============================] - 4s 2ms/step - loss: 0.0940 - accuracy: 0.9685\n",
      "Epoch 28/100\n",
      "2500/2500 [==============================] - 4s 1ms/step - loss: 0.0937 - accuracy: 0.9688\n",
      "Epoch 29/100\n",
      "2500/2500 [==============================] - 4s 1ms/step - loss: 0.0934 - accuracy: 0.9689\n",
      "Epoch 30/100\n",
      "2500/2500 [==============================] - 4s 1ms/step - loss: 0.0931 - accuracy: 0.9690\n",
      "Epoch 31/100\n",
      "2500/2500 [==============================] - 4s 2ms/step - loss: 0.0927 - accuracy: 0.9691\n",
      "Epoch 32/100\n",
      "2500/2500 [==============================] - 4s 1ms/step - loss: 0.0925 - accuracy: 0.9693\n",
      "Epoch 33/100\n",
      "2500/2500 [==============================] - 4s 2ms/step - loss: 0.0921 - accuracy: 0.9693\n",
      "Epoch 34/100\n",
      "2500/2500 [==============================] - 4s 2ms/step - loss: 0.0919 - accuracy: 0.9696\n",
      "Epoch 35/100\n",
      "2500/2500 [==============================] - 4s 2ms/step - loss: 0.0915 - accuracy: 0.9696\n",
      "Epoch 36/100\n",
      "2500/2500 [==============================] - 4s 2ms/step - loss: 0.0911 - accuracy: 0.9699\n",
      "Epoch 37/100\n",
      "2500/2500 [==============================] - 4s 1ms/step - loss: 0.0909 - accuracy: 0.9696\n",
      "Epoch 38/100\n",
      "2500/2500 [==============================] - 4s 2ms/step - loss: 0.0906 - accuracy: 0.9697\n",
      "Epoch 39/100\n",
      "2500/2500 [==============================] - 4s 2ms/step - loss: 0.0902 - accuracy: 0.9702\n",
      "Epoch 40/100\n",
      "2500/2500 [==============================] - 4s 2ms/step - loss: 0.0900 - accuracy: 0.9702\n",
      "Epoch 41/100\n",
      "2500/2500 [==============================] - 4s 2ms/step - loss: 0.0896 - accuracy: 0.9702\n",
      "Epoch 42/100\n",
      "2500/2500 [==============================] - 4s 2ms/step - loss: 0.0893 - accuracy: 0.9702\n",
      "Epoch 43/100\n",
      "2500/2500 [==============================] - 4s 2ms/step - loss: 0.0890 - accuracy: 0.9705\n",
      "Epoch 44/100\n",
      "2500/2500 [==============================] - 4s 2ms/step - loss: 0.0887 - accuracy: 0.9704\n",
      "Epoch 45/100\n",
      "2500/2500 [==============================] - 4s 1ms/step - loss: 0.0882 - accuracy: 0.9704\n",
      "Epoch 46/100\n",
      "2500/2500 [==============================] - 4s 2ms/step - loss: 0.0880 - accuracy: 0.9707\n",
      "Epoch 47/100\n",
      "2500/2500 [==============================] - 4s 2ms/step - loss: 0.0878 - accuracy: 0.9704\n",
      "Epoch 48/100\n",
      "2500/2500 [==============================] - 4s 2ms/step - loss: 0.0874 - accuracy: 0.9706\n",
      "Epoch 49/100\n",
      "2500/2500 [==============================] - 4s 2ms/step - loss: 0.0872 - accuracy: 0.9709\n",
      "Epoch 50/100\n",
      "2500/2500 [==============================] - 4s 2ms/step - loss: 0.0869 - accuracy: 0.9708\n",
      "Epoch 51/100\n",
      "2500/2500 [==============================] - 4s 2ms/step - loss: 0.0866 - accuracy: 0.9709\n",
      "Epoch 52/100\n",
      "2500/2500 [==============================] - 4s 2ms/step - loss: 0.0865 - accuracy: 0.9707\n",
      "Epoch 53/100\n",
      "2500/2500 [==============================] - 4s 2ms/step - loss: 0.0863 - accuracy: 0.9708\n",
      "Epoch 54/100\n",
      "2500/2500 [==============================] - 4s 2ms/step - loss: 0.0860 - accuracy: 0.9710\n",
      "Epoch 55/100\n",
      "2500/2500 [==============================] - 4s 2ms/step - loss: 0.0858 - accuracy: 0.9709\n",
      "Epoch 56/100\n",
      "2500/2500 [==============================] - 4s 2ms/step - loss: 0.0857 - accuracy: 0.9711\n",
      "Epoch 57/100\n",
      "2500/2500 [==============================] - 4s 2ms/step - loss: 0.0855 - accuracy: 0.9709\n",
      "Epoch 58/100\n",
      "2500/2500 [==============================] - 4s 2ms/step - loss: 0.0854 - accuracy: 0.9709\n",
      "Epoch 59/100\n",
      "2500/2500 [==============================] - 4s 2ms/step - loss: 0.0852 - accuracy: 0.9710\n",
      "Epoch 60/100\n",
      "2500/2500 [==============================] - 4s 2ms/step - loss: 0.0852 - accuracy: 0.9712\n",
      "Epoch 61/100\n",
      "2500/2500 [==============================] - 4s 2ms/step - loss: 0.0850 - accuracy: 0.9712\n",
      "Epoch 62/100\n",
      "2500/2500 [==============================] - 4s 2ms/step - loss: 0.0849 - accuracy: 0.9712\n",
      "Epoch 63/100\n",
      "2500/2500 [==============================] - 4s 2ms/step - loss: 0.0848 - accuracy: 0.9711\n",
      "Epoch 64/100\n",
      "2500/2500 [==============================] - 4s 2ms/step - loss: 0.0847 - accuracy: 0.9711\n",
      "Epoch 65/100\n",
      "2500/2500 [==============================] - 4s 2ms/step - loss: 0.0846 - accuracy: 0.9712\n",
      "Epoch 66/100\n",
      "2500/2500 [==============================] - 4s 2ms/step - loss: 0.0845 - accuracy: 0.9711\n",
      "Epoch 67/100\n",
      "2500/2500 [==============================] - 4s 2ms/step - loss: 0.0844 - accuracy: 0.9712\n",
      "Epoch 68/100\n",
      "2500/2500 [==============================] - 4s 2ms/step - loss: 0.0844 - accuracy: 0.9712\n",
      "Epoch 69/100\n",
      "2500/2500 [==============================] - 4s 2ms/step - loss: 0.0843 - accuracy: 0.9713\n",
      "Epoch 70/100\n",
      "2500/2500 [==============================] - 4s 2ms/step - loss: 0.0843 - accuracy: 0.9713\n",
      "Epoch 71/100\n",
      "2500/2500 [==============================] - 4s 2ms/step - loss: 0.0842 - accuracy: 0.9713\n",
      "Epoch 72/100\n",
      "2500/2500 [==============================] - 4s 2ms/step - loss: 0.0841 - accuracy: 0.9713\n",
      "Epoch 73/100\n",
      "2500/2500 [==============================] - 4s 2ms/step - loss: 0.0841 - accuracy: 0.9714\n",
      "Epoch 74/100\n",
      "2500/2500 [==============================] - 4s 2ms/step - loss: 0.0841 - accuracy: 0.9712\n",
      "Epoch 75/100\n",
      "2500/2500 [==============================] - 4s 2ms/step - loss: 0.0840 - accuracy: 0.9713\n",
      "Epoch 76/100\n",
      "2500/2500 [==============================] - 4s 2ms/step - loss: 0.0840 - accuracy: 0.9714\n",
      "Epoch 77/100\n",
      "2500/2500 [==============================] - 4s 2ms/step - loss: 0.0839 - accuracy: 0.9713\n",
      "Epoch 78/100\n",
      "2500/2500 [==============================] - 4s 1ms/step - loss: 0.0838 - accuracy: 0.9714\n",
      "Epoch 79/100\n",
      "2500/2500 [==============================] - 4s 1ms/step - loss: 0.0839 - accuracy: 0.9713\n",
      "Epoch 80/100\n",
      "2500/2500 [==============================] - 4s 2ms/step - loss: 0.0838 - accuracy: 0.9714\n",
      "Epoch 81/100\n",
      "2500/2500 [==============================] - 4s 1ms/step - loss: 0.0838 - accuracy: 0.9712\n",
      "Epoch 82/100\n",
      "2500/2500 [==============================] - 4s 2ms/step - loss: 0.0838 - accuracy: 0.9715\n",
      "Epoch 83/100\n",
      "2500/2500 [==============================] - 4s 2ms/step - loss: 0.0837 - accuracy: 0.9714\n",
      "Epoch 84/100\n",
      "2500/2500 [==============================] - 4s 2ms/step - loss: 0.0837 - accuracy: 0.9714\n",
      "Epoch 85/100\n",
      "2500/2500 [==============================] - 4s 2ms/step - loss: 0.0836 - accuracy: 0.9714\n",
      "Epoch 86/100\n",
      "2500/2500 [==============================] - 4s 2ms/step - loss: 0.0837 - accuracy: 0.9713\n",
      "Epoch 87/100\n",
      "2500/2500 [==============================] - 4s 2ms/step - loss: 0.0836 - accuracy: 0.9713\n",
      "Epoch 88/100\n",
      "2500/2500 [==============================] - 4s 2ms/step - loss: 0.0835 - accuracy: 0.9713\n",
      "Epoch 89/100\n",
      "2500/2500 [==============================] - 4s 2ms/step - loss: 0.0836 - accuracy: 0.9715\n",
      "Epoch 90/100\n",
      "2500/2500 [==============================] - 4s 2ms/step - loss: 0.0835 - accuracy: 0.9715\n",
      "Epoch 91/100\n",
      "2500/2500 [==============================] - 4s 1ms/step - loss: 0.0835 - accuracy: 0.9713\n",
      "Epoch 92/100\n",
      "2500/2500 [==============================] - 4s 2ms/step - loss: 0.0835 - accuracy: 0.9715\n",
      "Epoch 93/100\n",
      "2500/2500 [==============================] - 4s 2ms/step - loss: 0.0835 - accuracy: 0.9713\n",
      "Epoch 94/100\n",
      "2500/2500 [==============================] - 4s 2ms/step - loss: 0.0835 - accuracy: 0.9715\n",
      "Epoch 95/100\n",
      "2500/2500 [==============================] - 4s 2ms/step - loss: 0.0834 - accuracy: 0.9714\n",
      "Epoch 96/100\n",
      "2500/2500 [==============================] - 4s 2ms/step - loss: 0.0834 - accuracy: 0.9714\n",
      "Epoch 97/100\n",
      "2500/2500 [==============================] - 4s 2ms/step - loss: 0.0834 - accuracy: 0.9715\n",
      "Epoch 98/100\n",
      "2500/2500 [==============================] - 4s 2ms/step - loss: 0.0834 - accuracy: 0.9714\n",
      "Epoch 99/100\n",
      "2500/2500 [==============================] - 4s 2ms/step - loss: 0.0833 - accuracy: 0.9715\n",
      "Epoch 100/100\n",
      "2500/2500 [==============================] - 4s 2ms/step - loss: 0.0834 - accuracy: 0.9715\n"
     ]
    },
    {
     "data": {
      "text/plain": [
       "<keras.src.callbacks.History at 0x1bb77071290>"
      ]
     },
     "execution_count": 27,
     "metadata": {},
     "output_type": "execute_result"
    }
   ],
   "source": [
    "ann.fit(X_train, y_train, batch_size = 32, epochs = 100)"
   ]
  },
  {
   "cell_type": "code",
   "execution_count": 28,
   "metadata": {},
   "outputs": [
    {
     "data": {
      "text/plain": [
       "<keras.src.optimizers.adam.Adam at 0x1bb735c8050>"
      ]
     },
     "execution_count": 28,
     "metadata": {},
     "output_type": "execute_result"
    }
   ],
   "source": [
    "ann.optimizer"
   ]
  },
  {
   "cell_type": "markdown",
   "metadata": {
    "colab_type": "text",
    "id": "tJj5k2MxZga3"
   },
   "source": [
    "## Part 4 - Making the predictions and evaluating the model"
   ]
  },
  {
   "cell_type": "markdown",
   "metadata": {
    "colab_type": "text",
    "id": "u7yx47jPZt11"
   },
   "source": [
    "### Predicting the Test set results"
   ]
  },
  {
   "cell_type": "code",
   "execution_count": 29,
   "metadata": {
    "colab": {
     "base_uri": "https://localhost:8080/",
     "height": 137
    },
    "colab_type": "code",
    "id": "nIyEeQdRZwgs",
    "outputId": "82330ba8-9bdc-4fd1-d3cf-b6d78ee7c2a3"
   },
   "outputs": [
    {
     "name": "stdout",
     "output_type": "stream",
     "text": [
      "625/625 [==============================] - 1s 1ms/step\n",
      "[[0 0]\n",
      " [0 0]\n",
      " [0 0]\n",
      " ...\n",
      " [0 0]\n",
      " [0 0]\n",
      " [0 0]]\n"
     ]
    }
   ],
   "source": [
    "y_pred = ann.predict(X_test)\n",
    "y_pred = (y_pred > 0.5)\n",
    "print(np.concatenate((y_pred.reshape(len(y_pred),1), y_test.reshape(len(y_test),1)),1))"
   ]
  },
  {
   "cell_type": "markdown",
   "metadata": {
    "colab_type": "text",
    "id": "o0oyfLWoaEGw"
   },
   "source": [
    "### Making the Confusion Matrix"
   ]
  },
  {
   "cell_type": "code",
   "execution_count": 30,
   "metadata": {
    "colab": {
     "base_uri": "https://localhost:8080/",
     "height": 68
    },
    "colab_type": "code",
    "id": "ci6K_r6LaF6P",
    "outputId": "4d854e9e-22d5-432f-f6e5-a102fe3ae0bd"
   },
   "outputs": [
    {
     "name": "stdout",
     "output_type": "stream",
     "text": [
      "[[18284    13]\n",
      " [  554  1149]]\n"
     ]
    },
    {
     "data": {
      "text/plain": [
       "0.97165"
      ]
     },
     "execution_count": 30,
     "metadata": {},
     "output_type": "execute_result"
    }
   ],
   "source": [
    "from sklearn.metrics import confusion_matrix, accuracy_score\n",
    "import matplotlib.pyplot as plt\n",
    "conf_matrix = confusion_matrix(y_test, y_pred)\n",
    "print(conf_matrix)\n",
    "accuracy_score(y_test, y_pred)"
   ]
  },
  {
   "cell_type": "code",
   "execution_count": 31,
   "metadata": {
    "scrolled": true
   },
   "outputs": [
    {
     "data": {
      "image/png": "[encoded data removed]",
      "text/plain": [
       "<Figure size 750x750 with 1 Axes>"
      ]
     },
     "metadata": {},
     "output_type": "display_data"
    }
   ],
   "source": [
    "fig, ax = plt.subplots(figsize=(7.5, 7.5))\n",
    "ax.matshow(conf_matrix, cmap=plt.cm.Blues, alpha=0.3)\n",
    "for i in range(conf_matrix.shape[0]):\n",
    "    for j in range(conf_matrix.shape[1]):\n",
    "        ax.text(x=j, y=i,s=conf_matrix[i, j], va='center', ha='center', size='xx-large')\n",
    " \n",
    "plt.xlabel('Predictions', fontsize=18)\n",
    "plt.ylabel('Actuals', fontsize=18)\n",
    "plt.title('Confusion Matrix', fontsize=18)\n",
    "plt.show()"
   ]
  },
  {
   "cell_type": "markdown",
   "metadata": {},
   "source": [
    "ann.compile(optimizer = 'adadelta', loss = 'binary_crossentropy', metrics = ['accuracy'])     0 true positives, 0 false positive, 18297 on true negatives\n",
    "ann.compile(optimizer = 'adafactor', loss = 'binary_crossentropy', metrics = ['accuracy'])    experimental\n",
    "ann.compile(optimizer = 'adagrad', loss = 'binary_crossentropy', metrics = ['accuracy'])      92.21 - 95.53\n",
    "ann.compile(optimizer = 'adam', loss = 'binary_crossentropy', metrics = ['accuracy'])         95.85 - 96.61\n",
    "ann.compile(optimizer = 'adamw', loss = 'binary_crossentropy', metrics = ['accuracy'])        error\n",
    "ann.compile(optimizer = 'ftrl', loss = 'binary_crossentropy', metrics = ['accuracy'])         0 true positives, 0 false positive, good true negative\n",
    "ann.compile(optimizer = 'lion', loss = 'binary_crossentropy', metrics = ['accuracy'])         error\n",
    "ann.compile(optimizer = 'nadam', loss = 'binary_crossentropy', metrics = ['accuracy'])        581 false negative, 198 false positive\n",
    "ann.compile(optimizer = 'rmsprop', loss = 'binary_crossentropy', metrics = ['accuracy'])      517 false negative, 371 false positive, 1186 true positive\n",
    "ann.compile(optimizer = 'sgd', loss = 'binary_crossentropy', metrics = ['accuracy'])          505 false negative, 382 false positive, 1198 true positive"
   ]
  },
  {
   "cell_type": "code",
   "execution_count": 32,
   "metadata": {},
   "outputs": [
    {
     "name": "stdout",
     "output_type": "stream",
     "text": [
      "Model: \"sequential\"\n",
      "_________________________________________________________________\n",
      " Layer (type)                Output Shape              Param #   \n",
      "=================================================================\n",
      " dense (Dense)               (32, 6)                   84        \n",
      "                                                                 \n",
      " dense_1 (Dense)             (32, 6)                   42        \n",
      "                                                                 \n",
      " dense_2 (Dense)             (32, 1)                   7         \n",
      "                                                                 \n",
      "=================================================================\n",
      "Total params: 133 (532.00 Byte)\n",
      "Trainable params: 133 (532.00 Byte)\n",
      "Non-trainable params: 0 (0.00 Byte)\n",
      "_________________________________________________________________\n"
     ]
    }
   ],
   "source": [
    "ann.summary()"
   ]
  },
  {
   "cell_type": "markdown",
   "metadata": {},
   "source": [
    "Using adam optimizer\n",
    "1. 3 layers - all relu\n",
    "    - 0.97245\n",
    "    - 0 false positives, 1152 true positive, 551 false negative\n",
    "2. 3 layers - all sigmoid\n",
    "    - 0.9702\n",
    "    - 1149 true positives, 554 false negative, 42 false positive\n",
    "2. 4 layers = 3 relu, last sigmoid\n",
    "    - 0.9713\n",
    "    - 1151 true positives, 552 false negative, 22 false positive\n",
    "3. 5 layers = 4 relu, last sigmoid\n",
    "    - 0.97165\n",
    "    - 1143 true positives, 560 false negative, 7 false positive"
   ]
  },
  {
   "cell_type": "markdown",
   "metadata": {},
   "source": [
    "## General Observation\n",
    "Most correct predictions are on true negatives for all models"
   ]
  },
  {
   "cell_type": "markdown",
   "metadata": {},
   "source": [
    "**Homework**\n",
    "- Use the dataset: https://www.kaggle.com/datasets/iammustafatz/diabetes-prediction-dataset.\n",
    "- Experiment with the number of hidden layers, and the number of units in the hidden layer.\n",
    "- Try to experiment on the activation functions in the hidden layer https://www.tensorflow.org/api_docs/python/tf/keras/activations\n",
    "- Try to experiment with the optimizer: https://www.tensorflow.org/api_docs/python/tf/keras/optimizers\n",
    "- Check the accuracy, specificity, and sensitivity of your model."
   ]
  }
 ],
 "metadata": {
  "colab": {
   "collapsed_sections": [],
   "name": "artificial_neural_network.ipynb",
   "provenance": [],
   "toc_visible": true
  },
  "kernelspec": {
   "display_name": "Python 3 (ipykernel)",
   "language": "python",
   "name": "python3"
  },
  "language_info": {
   "codemirror_mode": {
    "name": "ipython",
    "version": 3
   },
   "file_extension": ".py",
   "mimetype": "text/x-python",
   "name": "python",
   "nbconvert_exporter": "python",
   "pygments_lexer": "ipython3",
   "version": "3.11.1"
  }
 },
 "nbformat": 4,
 "nbformat_minor": 1
}
